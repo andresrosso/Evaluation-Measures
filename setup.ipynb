{
 "cells": [
  {
   "cell_type": "code",
   "execution_count": 1,
   "metadata": {},
   "outputs": [],
   "source": [
    "#download java"
   ]
  },
  {
   "cell_type": "code",
   "execution_count": 2,
   "metadata": {},
   "outputs": [
    {
     "name": "stdout",
     "output_type": "stream",
     "text": [
      "--2020-02-23 23:45:10--  http://download.oracle.com/otn-pub/java/jdk/8u141-b15/336fa29ff2bb4ef291e347e091f7f4a7/jdk-8u141-linux-x64.tar.gz\n",
      "Resolving proxy4.unal.edu.co (proxy4.unal.edu.co)... 168.176.239.67\n",
      "Connecting to proxy4.unal.edu.co (proxy4.unal.edu.co)|168.176.239.67|:8080... connected.\n",
      "Proxy request sent, awaiting response... 302 Found\n",
      "Location: https://edelivery.oracle.com/otn-pub/java/jdk/8u141-b15/336fa29ff2bb4ef291e347e091f7f4a7/jdk-8u141-linux-x64.tar.gz [following]\n",
      "--2020-02-23 23:45:10--  https://edelivery.oracle.com/otn-pub/java/jdk/8u141-b15/336fa29ff2bb4ef291e347e091f7f4a7/jdk-8u141-linux-x64.tar.gz\n",
      "Connecting to proxy4.unal.edu.co (proxy4.unal.edu.co)|168.176.239.67|:8080... connected.\n",
      "Proxy request sent, awaiting response... 302 Moved Temporarily\n",
      "Location: http://download.oracle.com/otn-pub/java/jdk/8u141-b15/336fa29ff2bb4ef291e347e091f7f4a7/jdk-8u141-linux-x64.tar.gz?AuthParam=1582519750_466f1d4dc0116a777373954d11cad9fb [following]\n",
      "--2020-02-23 23:45:11--  http://download.oracle.com/otn-pub/java/jdk/8u141-b15/336fa29ff2bb4ef291e347e091f7f4a7/jdk-8u141-linux-x64.tar.gz?AuthParam=1582519750_466f1d4dc0116a777373954d11cad9fb\n",
      "Reusing existing connection to proxy4.unal.edu.co:8080.\n",
      "Proxy request sent, awaiting response... 301 Moved Permanently\n",
      "Location: https://download.oracle.com/otn-pub/java/jdk/8u141-b15/336fa29ff2bb4ef291e347e091f7f4a7/jdk-8u141-linux-x64.tar.gz?AuthParam=1582519750_466f1d4dc0116a777373954d11cad9fb [following]\n",
      "--2020-02-23 23:45:11--  https://download.oracle.com/otn-pub/java/jdk/8u141-b15/336fa29ff2bb4ef291e347e091f7f4a7/jdk-8u141-linux-x64.tar.gz?AuthParam=1582519750_466f1d4dc0116a777373954d11cad9fb\n",
      "Connecting to proxy4.unal.edu.co (proxy4.unal.edu.co)|168.176.239.67|:8080... connected.\n",
      "Proxy request sent, awaiting response... 200 OK\n",
      "Length: 185516505 (177M) [application/x-gzip]\n",
      "Saving to: ‘jdk-8u141-linux-x64.tar.gz’\n",
      "\n",
      "jdk-8u141-linux-x64 100%[===================>] 176.92M  1.00MB/s    in 2m 46s  \n",
      "\n",
      "2020-02-23 23:47:56 (1.07 MB/s) - ‘jdk-8u141-linux-x64.tar.gz’ saved [185516505/185516505]\n",
      "\n"
     ]
    }
   ],
   "source": [
    "!wget --no-cookies --no-check-certificate --header \"Cookie: gpw_e24=http%3A%2F%2Fwww.oracle.com%2F; oraclelicense=accept-securebackup-cookie\" \"http://download.oracle.com/otn-pub/java/jdk/8u141-b15/336fa29ff2bb4ef291e347e091f7f4a7/jdk-8u141-linux-x64.tar.gz\""
   ]
  },
  {
   "cell_type": "code",
   "execution_count": 3,
   "metadata": {},
   "outputs": [
    {
     "name": "stdout",
     "output_type": "stream",
     "text": [
      "flat\t      jdk-8u141-linux-x64.tar.gz  README.txt  Untitled.ipynb\n",
      "hierarchical  mesh\t\t\t  taskc\n"
     ]
    }
   ],
   "source": [
    "!ls"
   ]
  },
  {
   "cell_type": "code",
   "execution_count": null,
   "metadata": {},
   "outputs": [],
   "source": [
    "!tar -xvf jdk-8u141-linux-x64.tar.gz"
   ]
  },
  {
   "cell_type": "code",
   "execution_count": null,
   "metadata": {},
   "outputs": [],
   "source": [
    "!rm jdk*.tar.gz"
   ]
  },
  {
   "cell_type": "code",
   "execution_count": 5,
   "metadata": {},
   "outputs": [],
   "source": [
    "!export CLASSPATH=/home/jovyan/Evaluation-Measures/flat/BioASQEvaluation/dist/BioASQEvaluation.jar"
   ]
  },
  {
   "cell_type": "code",
   "execution_count": 6,
   "metadata": {},
   "outputs": [],
   "source": [
    "!export PATH=/home/jovyan/Evaluation-Measures/jdk1.8.0_141/bin"
   ]
  },
  {
   "cell_type": "code",
   "execution_count": 8,
   "metadata": {},
   "outputs": [
    {
     "name": "stdout",
     "output_type": "stream",
     "text": [
      "\n"
     ]
    }
   ],
   "source": [
    "!echo $CLASSPATH"
   ]
  },
  {
   "cell_type": "code",
   "execution_count": null,
   "metadata": {},
   "outputs": [],
   "source": [
    "evaluation.EvaluatorTask1b -phaseA -e 5 golden_file.json system_response.json"
   ]
  }
 ],
 "metadata": {
  "kernelspec": {
   "display_name": "Python 3",
   "language": "python",
   "name": "python3"
  },
  "language_info": {
   "codemirror_mode": {
    "name": "ipython",
    "version": 3
   },
   "file_extension": ".py",
   "mimetype": "text/x-python",
   "name": "python",
   "nbconvert_exporter": "python",
   "pygments_lexer": "ipython3",
   "version": "3.7.3"
  }
 },
 "nbformat": 4,
 "nbformat_minor": 4
}
