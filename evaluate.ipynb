{
 "cells": [
  {
   "cell_type": "code",
   "execution_count": 1,
   "metadata": {},
   "outputs": [],
   "source": [
    "#%env CLASSPATH=/home/jovyan/Evaluation-Measures/flat/BioASQEvaluation/dist/BioASQEvaluation.jar"
   ]
  },
  {
   "cell_type": "code",
   "execution_count": 18,
   "metadata": {},
   "outputs": [],
   "source": [
    "import os\n",
    "import subprocess\n",
    "import json\n",
    "\n",
    "path_home = '/home/jovyan/Evaluation-Measures/'\n",
    "path_golden = path_home+'/golden_docs/'\n",
    "os.environ[\"PATH\"] += os.pathsep + path_home + \"jdk1.8.0_141/bin\"\n",
    "os.environ[\"CLASSPATH\"] = path_home+ \"flat/BioASQEvaluation/dist/BioASQEvaluation.jar\""
   ]
  },
  {
   "cell_type": "code",
   "execution_count": null,
   "metadata": {},
   "outputs": [],
   "source": [
    "git filter-branch --force --index-filter 'git rm --cached --ignore-unmatch jdk-8u141-linux-x64.tar.gz' --prune-empty --tag-name-filter cat -- --all"
   ]
  },
  {
   "cell_type": "code",
   "execution_count": 19,
   "metadata": {},
   "outputs": [],
   "source": [
    "def get_scores_phaseA(golden_file, test_json):\n",
    "    out_file_name = path_home+'working_folder/test_'+golden_file\n",
    "    print(out_file_name)\n",
    "    print(path_golden+golden_file)\n",
    "    json.dump(submission, open(out_file_name, 'w'))\n",
    "    process = subprocess.Popen(['java', 'evaluation.EvaluatorTask1b', '-phaseA', '-e', '5', \n",
    "                                path_golden+golden_file, \n",
    "                                out_file_name], \n",
    "                               stdout=subprocess.PIPE, stderr=subprocess.PIPE)\n",
    "    out, err = process.communicate()\n",
    "    docs_scores = str(out).split(' ')[5:10]\n",
    "    docs_scores = [float(i) for i in docs_scores]\n",
    "    pass_scores = str(out).split(' ')[10:15]\n",
    "    pass_scores = [float(i) for i in pass_scores]\n",
    "    return docs_scores, pass_scores"
   ]
  },
  {
   "cell_type": "code",
   "execution_count": 20,
   "metadata": {},
   "outputs": [
    {
     "name": "stdout",
     "output_type": "stream",
     "text": [
      "b''\n",
      "[0.0, 0.0, 0.0, 0.0, 0.0]\n",
      "[0.0, nan, nan, nan, nan]\n"
     ]
    }
   ],
   "source": [
    "process = subprocess.Popen(['java', 'evaluation.EvaluatorTask1b', '-phaseA', '-e', '5', '6B1_golden.json', 'test.json'], stdout=subprocess.PIPE, stderr=subprocess.PIPE)\n",
    "out, err = process.communicate()\n",
    "docs_scores = str(out).split(' ')[5:10]\n",
    "docs_scores = [float(i) for i in docs_scores]\n",
    "pass_scores = str(out).split(' ')[10:15]\n",
    "pass_scores = [float(i) for i in pass_scores]\n",
    "print(err)\n",
    "print(docs_scores)\n",
    "print(pass_scores)"
   ]
  },
  {
   "cell_type": "code",
   "execution_count": 21,
   "metadata": {},
   "outputs": [
    {
     "ename": "SyntaxError",
     "evalue": "invalid syntax (<ipython-input-21-ffc03ab33bfd>, line 1)",
     "output_type": "error",
     "traceback": [
      "\u001b[0;36m  File \u001b[0;32m\"<ipython-input-21-ffc03ab33bfd>\"\u001b[0;36m, line \u001b[0;32m1\u001b[0m\n\u001b[0;31m    0.2965\t0.6220\t0.3365\t0.2288\t0.0574\u001b[0m\n\u001b[0m          \t     ^\u001b[0m\n\u001b[0;31mSyntaxError\u001b[0m\u001b[0;31m:\u001b[0m invalid syntax\n"
     ]
    }
   ],
   "source": [
    "0.2965\t0.6220\t0.3365\t0.2288\t0.0574"
   ]
  },
  {
   "cell_type": "code",
   "execution_count": 13,
   "metadata": {},
   "outputs": [],
   "source": [
    "docs_scores, pass_scores = get_scores_phaseA(golden_file='6B1_golden.json', test_file='test.json')"
   ]
  },
  {
   "cell_type": "code",
   "execution_count": 14,
   "metadata": {},
   "outputs": [
    {
     "data": {
      "text/plain": [
       "[0.16334603158327787,\n",
       " 0.21356875891409302,\n",
       " 0.15603344788938167,\n",
       " 0.1157237387228657,\n",
       " 0.00575547496554831]"
      ]
     },
     "execution_count": 14,
     "metadata": {},
     "output_type": "execute_result"
    }
   ],
   "source": [
    "pass_scores"
   ]
  },
  {
   "cell_type": "code",
   "execution_count": null,
   "metadata": {},
   "outputs": [],
   "source": []
  }
 ],
 "metadata": {
  "kernelspec": {
   "display_name": "Python 3",
   "language": "python",
   "name": "python3"
  },
  "language_info": {
   "codemirror_mode": {
    "name": "ipython",
    "version": 3
   },
   "file_extension": ".py",
   "mimetype": "text/x-python",
   "name": "python",
   "nbconvert_exporter": "python",
   "pygments_lexer": "ipython3",
   "version": "3.7.3"
  }
 },
 "nbformat": 4,
 "nbformat_minor": 4
}
